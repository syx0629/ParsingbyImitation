{
 "cells": [
  {
   "cell_type": "code",
   "execution_count": 1,
   "metadata": {
    "collapsed": true
   },
   "outputs": [],
   "source": [
    "import tensorflow as tf"
   ]
  },
  {
   "cell_type": "code",
   "execution_count": 10,
   "metadata": {
    "collapsed": false
   },
   "outputs": [],
   "source": [
    "sess = tf.InteractiveSession()\n",
    "\n",
    "goal_mean = tf.Variable(tf.constant(0.1,shape=[2]),name='gaussian_mean')\n",
    "goal_cov = tf.Variable(tf.constant(0.2,shape=[2]),name='gaussian_cov')\n",
    "\n",
    "normal = tf.contrib.distributions.MultivariateNormalDiag(goal_mean,goal_cov)\n"
   ]
  },
  {
   "cell_type": "code",
   "execution_count": 14,
   "metadata": {
    "collapsed": false
   },
   "outputs": [
    {
     "data": {
      "text/plain": [
       "(array([ 0.1,  0.1], dtype=float32), array([[ 0.04,  0.  ],\n",
       "        [ 0.  ,  0.04]], dtype=float32))"
      ]
     },
     "execution_count": 14,
     "metadata": {},
     "output_type": "execute_result"
    }
   ],
   "source": [
    "init = tf.global_variables_initializer()\n",
    "sess.run(init)"
   ]
  },
  {
   "cell_type": "code",
   "execution_count": 18,
   "metadata": {
    "collapsed": false
   },
   "outputs": [
    {
     "data": {
      "text/plain": [
       "(1.3809988, 1.3184988)"
      ]
     },
     "execution_count": 18,
     "metadata": {},
     "output_type": "execute_result"
    }
   ],
   "source": [
    "normal.log_prob([0.1,0.1]).eval(),normal.log_prob([0.15,0.15]).eval()\n",
    "normal.sample(sample_shape=1).eval()"
   ]
  },
  {
   "cell_type": "code",
   "execution_count": 21,
   "metadata": {
    "collapsed": false
   },
   "outputs": [
    {
     "data": {
      "text/plain": [
       "array([[ 0.07553671,  0.09034371]], dtype=float32)"
      ]
     },
     "execution_count": 21,
     "metadata": {},
     "output_type": "execute_result"
    }
   ],
   "source": [
    "FILE_DIR = \"../../\""
   ]
  },
  {
   "cell_type": "code",
   "execution_count": 22,
   "metadata": {
    "collapsed": true
   },
   "outputs": [],
   "source": [
    "# FOR ALL EPOCHS.\n",
    "# FOR ALL IMAGES.\n",
    "# Initialize Parse Tree and Image. \n",
    "# While the image still has non-terminal labelled pixels.\n",
    "    # Select the current non-terminal from the parse tree.\n",
    "    # (Select the next element in the parse tree).\n",
    "    \n",
    "    # If it's a non-terminal:       \n",
    "        # Forward pass rule-policy network: obtain softmax over rules.\n",
    "        # Sample this softmax probability distribution (Categorical distribution)\n",
    "        # If the rule is a split rule:\n",
    "        \n",
    "            # Forward pass split-location network: sample split location from Gaussian with predicted mean/cov. \n",
    "            # Apply sampled rule with split location. \n",
    "            # Add splits to parse tree. \n",
    "    \n",
    "    # If it's a terminal: \n",
    "        # Choose a goal location: sample goal from 2D Gaussian with predicted mean/cov.\n",
    "    "
   ]
  },
  {
   "cell_type": "code",
   "execution_count": 24,
   "metadata": {
    "collapsed": false
   },
   "outputs": [],
   "source": [
    "num_images = 200\n",
    "parse_tree = [[] for i in range(num_images)]\n",
    "rules_applied = [[] for i in range(num_images)]\n",
    "\n",
    "rewards = [[] for i in range(num_images)]\n",
    "backward_indices =[[] for i in range(num_images)]"
   ]
  },
  {
   "cell_type": "code",
   "execution_count": null,
   "metadata": {
    "collapsed": true
   },
   "outputs": [],
   "source": [
    "nimage = 1\n",
    "for i in range(nimage):\n",
    "    "
   ]
  }
 ],
 "metadata": {
  "kernelspec": {
   "display_name": "Python 2",
   "language": "python",
   "name": "python2"
  },
  "language_info": {
   "codemirror_mode": {
    "name": "ipython",
    "version": 2
   },
   "file_extension": ".py",
   "mimetype": "text/x-python",
   "name": "python",
   "nbconvert_exporter": "python",
   "pygments_lexer": "ipython2",
   "version": "2.7.12"
  }
 },
 "nbformat": 4,
 "nbformat_minor": 2
}
